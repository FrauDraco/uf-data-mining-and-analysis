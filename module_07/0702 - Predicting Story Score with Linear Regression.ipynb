{
 "cells": [
  {
   "cell_type": "code",
   "execution_count": 1,
   "metadata": {},
   "outputs": [],
   "source": [
    "import pandas as pd\n",
    "\n",
    "from sklearn import metrics\n",
    "import matplotlib.pyplot as plt\n",
    "\n",
    "from sklearn.linear_model import LinearRegression\n",
    "from sklearn.model_selection import train_test_split, \\\n",
    "    cross_val_predict"
   ]
  },
  {
   "cell_type": "code",
   "execution_count": 2,
   "metadata": {},
   "outputs": [],
   "source": [
    "stories = pd.read_csv('../data/lobsters_numeric.csv')"
   ]
  },
  {
   "cell_type": "code",
   "execution_count": 3,
   "metadata": {},
   "outputs": [
    {
     "data": {
      "text/html": [
       "<div>\n",
       "<style scoped>\n",
       "    .dataframe tbody tr th:only-of-type {\n",
       "        vertical-align: middle;\n",
       "    }\n",
       "\n",
       "    .dataframe tbody tr th {\n",
       "        vertical-align: top;\n",
       "    }\n",
       "\n",
       "    .dataframe thead th {\n",
       "        text-align: right;\n",
       "    }\n",
       "</style>\n",
       "<table border=\"1\" class=\"dataframe\">\n",
       "  <thead>\n",
       "    <tr style=\"text-align: right;\">\n",
       "      <th></th>\n",
       "      <th>Unnamed: 0</th>\n",
       "      <th>comment_count</th>\n",
       "      <th>downvotes</th>\n",
       "      <th>score</th>\n",
       "      <th>upvotes</th>\n",
       "      <th>karma</th>\n",
       "      <th>android</th>\n",
       "      <th>announce</th>\n",
       "      <th>api</th>\n",
       "      <th>art</th>\n",
       "      <th>...</th>\n",
       "      <th>video</th>\n",
       "      <th>vim</th>\n",
       "      <th>virtualization</th>\n",
       "      <th>visualization</th>\n",
       "      <th>web</th>\n",
       "      <th>windows</th>\n",
       "      <th>created_hour</th>\n",
       "      <th>created_dow</th>\n",
       "      <th>created_year</th>\n",
       "      <th>scaled_title_popularity</th>\n",
       "    </tr>\n",
       "  </thead>\n",
       "  <tbody>\n",
       "    <tr>\n",
       "      <th>0</th>\n",
       "      <td>000yx1</td>\n",
       "      <td>2</td>\n",
       "      <td>0</td>\n",
       "      <td>22</td>\n",
       "      <td>22</td>\n",
       "      <td>4957.0</td>\n",
       "      <td>0.0</td>\n",
       "      <td>0.0</td>\n",
       "      <td>0.0</td>\n",
       "      <td>0.0</td>\n",
       "      <td>...</td>\n",
       "      <td>0.0</td>\n",
       "      <td>0.0</td>\n",
       "      <td>0.0</td>\n",
       "      <td>0.0</td>\n",
       "      <td>0.0</td>\n",
       "      <td>0.0</td>\n",
       "      <td>14</td>\n",
       "      <td>4</td>\n",
       "      <td>2017</td>\n",
       "      <td>0.053848</td>\n",
       "    </tr>\n",
       "    <tr>\n",
       "      <th>1</th>\n",
       "      <td>001m4w</td>\n",
       "      <td>1</td>\n",
       "      <td>0</td>\n",
       "      <td>3</td>\n",
       "      <td>3</td>\n",
       "      <td>6384.0</td>\n",
       "      <td>0.0</td>\n",
       "      <td>0.0</td>\n",
       "      <td>0.0</td>\n",
       "      <td>0.0</td>\n",
       "      <td>...</td>\n",
       "      <td>0.0</td>\n",
       "      <td>0.0</td>\n",
       "      <td>0.0</td>\n",
       "      <td>0.0</td>\n",
       "      <td>0.0</td>\n",
       "      <td>0.0</td>\n",
       "      <td>13</td>\n",
       "      <td>0</td>\n",
       "      <td>2014</td>\n",
       "      <td>0.249789</td>\n",
       "    </tr>\n",
       "    <tr>\n",
       "      <th>2</th>\n",
       "      <td>002cgs</td>\n",
       "      <td>2</td>\n",
       "      <td>0</td>\n",
       "      <td>12</td>\n",
       "      <td>12</td>\n",
       "      <td>194.0</td>\n",
       "      <td>0.0</td>\n",
       "      <td>0.0</td>\n",
       "      <td>0.0</td>\n",
       "      <td>0.0</td>\n",
       "      <td>...</td>\n",
       "      <td>0.0</td>\n",
       "      <td>0.0</td>\n",
       "      <td>0.0</td>\n",
       "      <td>0.0</td>\n",
       "      <td>0.0</td>\n",
       "      <td>0.0</td>\n",
       "      <td>18</td>\n",
       "      <td>1</td>\n",
       "      <td>2017</td>\n",
       "      <td>0.102904</td>\n",
       "    </tr>\n",
       "    <tr>\n",
       "      <th>3</th>\n",
       "      <td>006hat</td>\n",
       "      <td>0</td>\n",
       "      <td>0</td>\n",
       "      <td>7</td>\n",
       "      <td>7</td>\n",
       "      <td>23.0</td>\n",
       "      <td>0.0</td>\n",
       "      <td>0.0</td>\n",
       "      <td>0.0</td>\n",
       "      <td>0.0</td>\n",
       "      <td>...</td>\n",
       "      <td>0.0</td>\n",
       "      <td>0.0</td>\n",
       "      <td>0.0</td>\n",
       "      <td>0.0</td>\n",
       "      <td>0.0</td>\n",
       "      <td>0.0</td>\n",
       "      <td>15</td>\n",
       "      <td>4</td>\n",
       "      <td>2012</td>\n",
       "      <td>0.030448</td>\n",
       "    </tr>\n",
       "    <tr>\n",
       "      <th>4</th>\n",
       "      <td>00adts</td>\n",
       "      <td>1</td>\n",
       "      <td>0</td>\n",
       "      <td>7</td>\n",
       "      <td>7</td>\n",
       "      <td>1028.0</td>\n",
       "      <td>0.0</td>\n",
       "      <td>0.0</td>\n",
       "      <td>0.0</td>\n",
       "      <td>0.0</td>\n",
       "      <td>...</td>\n",
       "      <td>0.0</td>\n",
       "      <td>0.0</td>\n",
       "      <td>0.0</td>\n",
       "      <td>0.0</td>\n",
       "      <td>0.0</td>\n",
       "      <td>0.0</td>\n",
       "      <td>10</td>\n",
       "      <td>2</td>\n",
       "      <td>2016</td>\n",
       "      <td>0.049901</td>\n",
       "    </tr>\n",
       "  </tbody>\n",
       "</table>\n",
       "<p>5 rows × 99 columns</p>\n",
       "</div>"
      ],
      "text/plain": [
       "  Unnamed: 0  comment_count  downvotes  score  upvotes   karma  android  \\\n",
       "0     000yx1              2          0     22       22  4957.0      0.0   \n",
       "1     001m4w              1          0      3        3  6384.0      0.0   \n",
       "2     002cgs              2          0     12       12   194.0      0.0   \n",
       "3     006hat              0          0      7        7    23.0      0.0   \n",
       "4     00adts              1          0      7        7  1028.0      0.0   \n",
       "\n",
       "   announce  api  art           ...             video  vim  virtualization  \\\n",
       "0       0.0  0.0  0.0           ...               0.0  0.0             0.0   \n",
       "1       0.0  0.0  0.0           ...               0.0  0.0             0.0   \n",
       "2       0.0  0.0  0.0           ...               0.0  0.0             0.0   \n",
       "3       0.0  0.0  0.0           ...               0.0  0.0             0.0   \n",
       "4       0.0  0.0  0.0           ...               0.0  0.0             0.0   \n",
       "\n",
       "   visualization  web  windows  created_hour  created_dow  created_year  \\\n",
       "0            0.0  0.0      0.0            14            4          2017   \n",
       "1            0.0  0.0      0.0            13            0          2014   \n",
       "2            0.0  0.0      0.0            18            1          2017   \n",
       "3            0.0  0.0      0.0            15            4          2012   \n",
       "4            0.0  0.0      0.0            10            2          2016   \n",
       "\n",
       "   scaled_title_popularity  \n",
       "0                 0.053848  \n",
       "1                 0.249789  \n",
       "2                 0.102904  \n",
       "3                 0.030448  \n",
       "4                 0.049901  \n",
       "\n",
       "[5 rows x 99 columns]"
      ]
     },
     "execution_count": 3,
     "metadata": {},
     "output_type": "execute_result"
    }
   ],
   "source": [
    "stories.head()"
   ]
  },
  {
   "cell_type": "code",
   "execution_count": 4,
   "metadata": {},
   "outputs": [],
   "source": [
    "stories = stories.set_index('Unnamed: 0')"
   ]
  },
  {
   "cell_type": "markdown",
   "metadata": {},
   "source": [
    "### Setting up test and train data"
   ]
  },
  {
   "cell_type": "code",
   "execution_count": null,
   "metadata": {},
   "outputs": [],
   "source": [
    "train_test_split?"
   ]
  },
  {
   "cell_type": "code",
   "execution_count": 5,
   "metadata": {},
   "outputs": [],
   "source": [
    "y = stories.score\n",
    "X = stories.drop(['score'], axis=1).as_matrix()"
   ]
  },
  {
   "cell_type": "code",
   "execution_count": 6,
   "metadata": {},
   "outputs": [],
   "source": [
    "X_train, X_test, y_train, y_test = train_test_split(\n",
    "    X, y, test_size=0.33, random_state=42)"
   ]
  },
  {
   "cell_type": "markdown",
   "metadata": {},
   "source": [
    "### Training our Model"
   ]
  },
  {
   "cell_type": "code",
   "execution_count": 7,
   "metadata": {},
   "outputs": [
    {
     "data": {
      "text/plain": [
       "LinearRegression(copy_X=True, fit_intercept=True, n_jobs=1, normalize=False)"
      ]
     },
     "execution_count": 7,
     "metadata": {},
     "output_type": "execute_result"
    }
   ],
   "source": [
    "lr = LinearRegression()\n",
    "lr.fit(X_train, y_train)"
   ]
  },
  {
   "cell_type": "code",
   "execution_count": 8,
   "metadata": {},
   "outputs": [
    {
     "data": {
      "text/plain": [
       "Text(0.5,1,'Scores vs Predicted scores: $Y_i$ vs $\\\\hat{Y}_i$')"
      ]
     },
     "execution_count": 8,
     "metadata": {},
     "output_type": "execute_result"
    },
    {
     "data": {
      "image/png": "[encoded data removed]",
      "text/plain": [
       "<Figure size 432x288 with 1 Axes>"
      ]
     },
     "metadata": {},
     "output_type": "display_data"
    }
   ],
   "source": [
    "y_pred = lr.predict(X_test)\n",
    "\n",
    "plt.scatter(y_test, y_pred)\n",
    "plt.xlabel(\"Scores: $Y_i$\")\n",
    "plt.ylabel(\"Predicted scores: $\\hat{Y}_i$\")\n",
    "plt.title(\"Scores vs Predicted scores: $Y_i$ vs $\\hat{Y}_i$\")"
   ]
  },
  {
   "cell_type": "code",
   "execution_count": 9,
   "metadata": {},
   "outputs": [
    {
     "data": {
      "text/plain": [
       "1.51470457011175"
      ]
     },
     "execution_count": 9,
     "metadata": {},
     "output_type": "execute_result"
    }
   ],
   "source": [
    "metrics.mean_squared_error(y_test, y_pred)"
   ]
  },
  {
   "cell_type": "code",
   "execution_count": 10,
   "metadata": {},
   "outputs": [
    {
     "data": {
      "text/plain": [
       "0.9788882086998653"
      ]
     },
     "execution_count": 10,
     "metadata": {},
     "output_type": "execute_result"
    }
   ],
   "source": [
    "metrics.explained_variance_score(y_test, y_pred)"
   ]
  },
  {
   "cell_type": "markdown",
   "metadata": {},
   "source": [
    "### Looking at our model with cross validation"
   ]
  },
  {
   "cell_type": "code",
   "execution_count": 11,
   "metadata": {
    "scrolled": true
   },
   "outputs": [
    {
     "data": {
      "image/png": "[encoded data removed]",
      "text/plain": [
       "<Figure size 432x288 with 1 Axes>"
      ]
     },
     "metadata": {},
     "output_type": "display_data"
    }
   ],
   "source": [
    "lr_cv = LinearRegression()\n",
    "predicted = cross_val_predict(lr_cv, X_train, y_train, cv=10)\n",
    "fig, ax = plt.subplots()\n",
    "ax.scatter(y_train, predicted, edgecolors=(0, 0, 0))\n",
    "ax.plot([y_train.min(), y_train.max()], \n",
    "        [y_train.min(), y_train.max()], 'r--', lw=4)\n",
    "ax.set_xlabel('Measured')\n",
    "ax.set_ylabel('Predicted')\n",
    "plt.show()"
   ]
  },
  {
   "cell_type": "markdown",
   "metadata": {},
   "source": [
    "### Something is definitely fishy... \n",
    "\n",
    "Here's a look from the sklearn documentation of how linear regression charts \"normally\" look.\n",
    "\n",
    "![](http://scikit-learn.org/stable/_images/sphx_glr_plot_cv_predict_001.png)"
   ]
  },
  {
   "cell_type": "markdown",
   "metadata": {},
   "source": [
    "### Investigating what features might be overfitting"
   ]
  },
  {
   "cell_type": "code",
   "execution_count": 12,
   "metadata": {},
   "outputs": [
    {
     "data": {
      "text/plain": [
       "array([ 2.10827766e-02, -1.01359865e+00,  9.08018883e-01,  4.10576883e-06,\n",
       "       -1.42939213e-01, -3.18572710e+00, -9.13225192e-02, -4.00188914e-03,\n",
       "        2.76323261e-01,  1.09732601e-01, -1.99504086e-01,  7.28070466e-02,\n",
       "       -7.57683005e-02,  4.49755591e-02, -1.83068416e-01,  1.76018852e-01,\n",
       "       -4.79380451e-02,  1.04705510e-01, -2.36686151e-01, -3.40259330e-01,\n",
       "       -1.82288477e-01, -1.43004315e-01,  1.47281453e-01,  1.03998763e-03,\n",
       "       -1.38177403e-01,  5.81262827e-02, -2.36875977e-01, -9.97652593e-02,\n",
       "        9.35842484e-02,  7.02202424e-02,  3.41025085e-01,  1.27460409e-01,\n",
       "       -3.23181799e-01, -1.81345242e-02, -2.89516086e-02, -3.72959197e-02,\n",
       "        8.15229543e-02,  3.02467663e-02,  1.98751830e-03,  1.05323216e-01,\n",
       "        5.66602708e-02,  1.49835435e+00, -1.87345372e-01,  5.82956112e-02,\n",
       "       -1.12841129e-01, -2.39520573e-01, -2.49974226e-01,  6.36400606e-02,\n",
       "        5.40607074e-02,  1.35004642e-01, -6.59882468e-02,  1.05089600e-01,\n",
       "       -1.94079525e-02, -8.61554475e-01,  2.21255094e-01, -1.00693182e-01,\n",
       "       -1.10909032e-01, -6.53020622e-03, -1.71152962e-01, -5.92397814e-02,\n",
       "        4.19910098e-01, -1.62155702e-01, -9.44121824e-03, -2.79197991e-02,\n",
       "        1.60654470e-02, -2.27602494e-01,  6.88478279e-03, -2.07695230e-01,\n",
       "        3.31221691e-02, -1.65825718e-01,  1.33513649e-01,  6.46708459e-02,\n",
       "       -3.86848145e-02, -1.01674903e-01,  4.12606083e-01,  1.43569017e-01,\n",
       "       -6.19133028e-02, -1.41903298e-02, -8.77397706e-02,  3.00276707e-02,\n",
       "        1.36708873e-01,  1.15292904e-01, -2.06519696e-01,  1.00387269e-01,\n",
       "       -1.24326911e-01,  1.64143142e-01,  2.28053944e-01, -1.45704205e-01,\n",
       "        1.61732854e-01, -1.62150925e-01, -5.00503576e-02, -1.27324167e-01,\n",
       "       -1.03616959e-01,  1.95481091e-04,  1.85010258e-03,  3.27515613e-02,\n",
       "        5.17593566e-02])"
      ]
     },
     "execution_count": 12,
     "metadata": {},
     "output_type": "execute_result"
    }
   ],
   "source": [
    "lr.coef_"
   ]
  },
  {
   "cell_type": "code",
   "execution_count": 13,
   "metadata": {},
   "outputs": [
    {
     "data": {
      "text/plain": [
       "<matplotlib.axes._subplots.AxesSubplot at 0x7fd0c9abe4a8>"
      ]
     },
     "execution_count": 13,
     "metadata": {},
     "output_type": "execute_result"
    },
    {
     "data": {
      "image/png": "[encoded data removed]",
      "text/plain": [
       "<Figure size 432x288 with 1 Axes>"
      ]
     },
     "metadata": {},
     "output_type": "display_data"
    }
   ],
   "source": [
    "pd.Series(lr.coef_).hist()"
   ]
  },
  {
   "cell_type": "code",
   "execution_count": 14,
   "metadata": {},
   "outputs": [],
   "source": [
    "x_cols = stories.drop('score', axis=1).columns"
   ]
  },
  {
   "cell_type": "code",
   "execution_count": null,
   "metadata": {},
   "outputs": [],
   "source": [
    "a = list('123')\n",
    "b = list('abc')\n",
    "print(a)\n",
    "print(b)\n",
    "list(zip(a, b))"
   ]
  },
  {
   "cell_type": "code",
   "execution_count": 15,
   "metadata": {},
   "outputs": [
    {
     "name": "stdout",
     "output_type": "stream",
     "text": [
      "downvotes -1.0135986502696344\n",
      "upvotes 0.9080188827881093\n",
      "announce -3.1857270959588155\n",
      "interview 1.4983543452961887\n",
      "meta -0.861554474695577\n"
     ]
    }
   ],
   "source": [
    "for col, coef in zip(x_cols, lr.coef_):\n",
    "    if coef > .5 or coef < -0.5:\n",
    "        print(col, coef)"
   ]
  },
  {
   "cell_type": "markdown",
   "metadata": {},
   "source": [
    "### Your Turn\n",
    "\n",
    "- Is this a good set of features? Do we possibly have leakage? Why or why not?"
   ]
  },
  {
   "cell_type": "markdown",
   "metadata": {},
   "source": [
    "### Save our model"
   ]
  },
  {
   "cell_type": "code",
   "execution_count": 16,
   "metadata": {},
   "outputs": [
    {
     "data": {
      "text/plain": [
       "['../data/lobsters_lr_score_model_overfit.pkl']"
      ]
     },
     "execution_count": 16,
     "metadata": {},
     "output_type": "execute_result"
    }
   ],
   "source": [
    "from sklearn.externals import joblib\n",
    "joblib.dump(lr, '../data/lobsters_lr_score_model_overfit.pkl') "
   ]
  },
  {
   "cell_type": "code",
   "execution_count": null,
   "metadata": {},
   "outputs": [],
   "source": []
  }
 ],
 "metadata": {
  "kernelspec": {
   "display_name": "Python 3",
   "language": "python",
   "name": "python3"
  },
  "language_info": {
   "codemirror_mode": {
    "name": "ipython",
    "version": 3
   },
   "file_extension": ".py",
   "mimetype": "text/x-python",
   "name": "python",
   "nbconvert_exporter": "python",
   "pygments_lexer": "ipython3",
   "version": "3.6.1"
  }
 },
 "nbformat": 4,
 "nbformat_minor": 2
}
