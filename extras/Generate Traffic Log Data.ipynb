{
 "cells": [
  {
   "cell_type": "code",
   "execution_count": 1,
   "metadata": {},
   "outputs": [],
   "source": [
    "from datafuzz.generators import DatasetGenerator\n",
    "from datafuzz.parsers import SchemaYAMLParser"
   ]
  },
  {
   "cell_type": "code",
   "execution_count": 2,
   "metadata": {},
   "outputs": [],
   "source": [
    "parser = SchemaYAMLParser('traffic.yaml')"
   ]
  },
  {
   "cell_type": "code",
   "execution_count": 3,
   "metadata": {},
   "outputs": [],
   "source": [
    "parser.parse()"
   ]
  },
  {
   "cell_type": "code",
   "execution_count": 11,
   "metadata": {},
   "outputs": [],
   "source": [
    "generator = DatasetGenerator(parser)"
   ]
  },
  {
   "cell_type": "code",
   "execution_count": 12,
   "metadata": {},
   "outputs": [],
   "source": [
    "generator.generate()"
   ]
  },
  {
   "cell_type": "code",
   "execution_count": 13,
   "metadata": {},
   "outputs": [],
   "source": [
    "df = generator.to_output()"
   ]
  },
  {
   "cell_type": "code",
   "execution_count": 14,
   "metadata": {},
   "outputs": [],
   "source": [
    "df['url'] = df['url'].map(lambda x: 'https://myawesomesite.com/{}'.format(x)\n",
    "                          if len(x) < 14 else 'http://www.myawesomesite.com/{}'.format(x)\n",
    "                         )"
   ]
  },
  {
   "cell_type": "code",
   "execution_count": 8,
   "metadata": {},
   "outputs": [
    {
     "data": {
      "text/html": [
       "<div>\n",
       "<style>\n",
       "    .dataframe thead tr:only-child th {\n",
       "        text-align: right;\n",
       "    }\n",
       "\n",
       "    .dataframe thead th {\n",
       "        text-align: left;\n",
       "    }\n",
       "\n",
       "    .dataframe tbody tr th {\n",
       "        vertical-align: top;\n",
       "    }\n",
       "</style>\n",
       "<table border=\"1\" class=\"dataframe\">\n",
       "  <thead>\n",
       "    <tr style=\"text-align: right;\">\n",
       "      <th></th>\n",
       "      <th>timestamp</th>\n",
       "      <th>url</th>\n",
       "      <th>user_agent</th>\n",
       "    </tr>\n",
       "  </thead>\n",
       "  <tbody>\n",
       "    <tr>\n",
       "      <th>0</th>\n",
       "      <td>2018-03-01T00:00:00</td>\n",
       "      <td>https://myawesomesite.com/ex-voluptates</td>\n",
       "      <td>Mozilla/5.0 (X11; Linux i686; rv:1.9.5.20) Gec...</td>\n",
       "    </tr>\n",
       "    <tr>\n",
       "      <th>1</th>\n",
       "      <td>2018-03-01T00:00:22</td>\n",
       "      <td>http://www.myawesomesite.com/quia-facere-eveniet</td>\n",
       "      <td>Mozilla/5.0 (Macintosh; Intel Mac OS X 10_6_6 ...</td>\n",
       "    </tr>\n",
       "    <tr>\n",
       "      <th>2</th>\n",
       "      <td>2018-03-01T00:01:02</td>\n",
       "      <td>http://www.myawesomesite.com/maiores-eligendi</td>\n",
       "      <td>Mozilla/5.0 (Windows 98; ik-CA; rv:1.9.1.20) G...</td>\n",
       "    </tr>\n",
       "    <tr>\n",
       "      <th>3</th>\n",
       "      <td>2018-03-01T00:01:36</td>\n",
       "      <td>http://www.myawesomesite.com/reprehenderit-ipsum</td>\n",
       "      <td>Opera/9.52.(Windows NT 5.0; or-IN) Presto/2.9....</td>\n",
       "    </tr>\n",
       "    <tr>\n",
       "      <th>4</th>\n",
       "      <td>2018-03-01T00:01:59</td>\n",
       "      <td>http://www.myawesomesite.com/ab-aliquid-earum</td>\n",
       "      <td>Mozilla/5.0 (Windows; U; Windows NT 5.0) Apple...</td>\n",
       "    </tr>\n",
       "  </tbody>\n",
       "</table>\n",
       "</div>"
      ],
      "text/plain": [
       "             timestamp                                               url  \\\n",
       "0  2018-03-01T00:00:00           https://myawesomesite.com/ex-voluptates   \n",
       "1  2018-03-01T00:00:22  http://www.myawesomesite.com/quia-facere-eveniet   \n",
       "2  2018-03-01T00:01:02     http://www.myawesomesite.com/maiores-eligendi   \n",
       "3  2018-03-01T00:01:36  http://www.myawesomesite.com/reprehenderit-ipsum   \n",
       "4  2018-03-01T00:01:59     http://www.myawesomesite.com/ab-aliquid-earum   \n",
       "\n",
       "                                          user_agent  \n",
       "0  Mozilla/5.0 (X11; Linux i686; rv:1.9.5.20) Gec...  \n",
       "1  Mozilla/5.0 (Macintosh; Intel Mac OS X 10_6_6 ...  \n",
       "2  Mozilla/5.0 (Windows 98; ik-CA; rv:1.9.1.20) G...  \n",
       "3  Opera/9.52.(Windows NT 5.0; or-IN) Presto/2.9....  \n",
       "4  Mozilla/5.0 (Windows; U; Windows NT 5.0) Apple...  "
      ]
     },
     "execution_count": 8,
     "metadata": {},
     "output_type": "execute_result"
    }
   ],
   "source": [
    "df.head()"
   ]
  },
  {
   "cell_type": "code",
   "execution_count": 9,
   "metadata": {},
   "outputs": [
    {
     "data": {
      "text/plain": [
       "http://www.myawesomesite.com/necessitatibus         36\n",
       "http://www.myawesomesite.com/exercitationem         31\n",
       "https://myawesomesite.com/reprehenderit             26\n",
       "https://myawesomesite.com/voluptatibus              21\n",
       "https://myawesomesite.com/repudiandae               19\n",
       "https://myawesomesite.com/perspiciatis              18\n",
       "https://myawesomesite.com/distinctio                17\n",
       "https://myawesomesite.com/recusandae                16\n",
       "https://myawesomesite.com/dignissimos               15\n",
       "https://myawesomesite.com/repellendus               14\n",
       "https://myawesomesite.com/laudantium                14\n",
       "https://myawesomesite.com/laboriosam                13\n",
       "https://myawesomesite.com/doloremque                13\n",
       "https://myawesomesite.com/praesentium               12\n",
       "https://myawesomesite.com/consequatur               12\n",
       "https://myawesomesite.com/doloribus                 12\n",
       "https://myawesomesite.com/consequuntur              12\n",
       "https://myawesomesite.com/voluptatum                11\n",
       "https://myawesomesite.com/architecto                11\n",
       "https://myawesomesite.com/perferendis               11\n",
       "https://myawesomesite.com/accusantium               10\n",
       "https://myawesomesite.com/reiciendis                10\n",
       "https://myawesomesite.com/aspernatur                10\n",
       "https://myawesomesite.com/consectetur               10\n",
       "https://myawesomesite.com/voluptates                 9\n",
       "https://myawesomesite.com/voluptatem                 9\n",
       "https://myawesomesite.com/blanditiis                 9\n",
       "https://myawesomesite.com/cupiditate                 9\n",
       "https://myawesomesite.com/similique                  8\n",
       "https://myawesomesite.com/asperiores                 7\n",
       "                                                    ..\n",
       "http://www.myawesomesite.com/modi-et-numquam-et      1\n",
       "http://www.myawesomesite.com/libero-dignissimos      1\n",
       "http://www.myawesomesite.com/architecto-itaque       1\n",
       "http://www.myawesomesite.com/ipsum-delectus          1\n",
       "http://www.myawesomesite.com/quod-fugit-nobis        1\n",
       "http://www.myawesomesite.com/accusantium-vitae       1\n",
       "http://www.myawesomesite.com/perferendis-minima      1\n",
       "http://www.myawesomesite.com/aperiam-doloremque      1\n",
       "http://www.myawesomesite.com/tempora-delectus-ex     1\n",
       "http://www.myawesomesite.com/inventore-dicta         1\n",
       "http://www.myawesomesite.com/nisi-vel-quisquam       1\n",
       "http://www.myawesomesite.com/illum-at-sapiente       1\n",
       "http://www.myawesomesite.com/quisquam-asperiores     1\n",
       "http://www.myawesomesite.com/unde-veritatis          1\n",
       "http://www.myawesomesite.com/cumque-cumque-ea        1\n",
       "https://myawesomesite.com/adipisci-odit              1\n",
       "http://www.myawesomesite.com/eos-illo-sapiente       1\n",
       "http://www.myawesomesite.com/consequuntur-animi      1\n",
       "http://www.myawesomesite.com/commodi-blanditiis      1\n",
       "http://www.myawesomesite.com/ratione-libero-a        1\n",
       "http://www.myawesomesite.com/ducimus-laborum         1\n",
       "http://www.myawesomesite.com/maxime-dolorem          1\n",
       "http://www.myawesomesite.com/expedita-itaque         1\n",
       "http://www.myawesomesite.com/non-ducimus-ipsa        1\n",
       "http://www.myawesomesite.com/asperiores-ipsam        1\n",
       "http://www.myawesomesite.com/excepturi-culpa         1\n",
       "https://myawesomesite.com/officia-id                 1\n",
       "http://www.myawesomesite.com/qui-vel-blanditiis      1\n",
       "http://www.myawesomesite.com/nesciunt-minima         1\n",
       "http://www.myawesomesite.com/at-voluptatibus         1\n",
       "Name: url, Length: 6557, dtype: int64"
      ]
     },
     "execution_count": 9,
     "metadata": {},
     "output_type": "execute_result"
    }
   ],
   "source": [
    "df.url.value_counts()"
   ]
  },
  {
   "cell_type": "code",
   "execution_count": 15,
   "metadata": {},
   "outputs": [],
   "source": [
    "df.to_csv('../data/parsed_logs3.csv', index=False)"
   ]
  },
  {
   "cell_type": "code",
   "execution_count": 11,
   "metadata": {},
   "outputs": [
    {
     "name": "stdout",
     "output_type": "stream",
     "text": [
      "timestamp,url,user_agent\r\n",
      "2018-03-01T00:00:00,https://myawesomesite.com/consectetur,Opera/8.55.(X11; Linux i686; nr-ZA) Presto/2.9.180 Version/10.00\r\n",
      "2018-03-01T00:00:35,http://www.myawesomesite.com/veritatis-pariatur,Mozilla/5.0 (compatible; MSIE 5.0; Windows NT 5.01; Trident/5.0)\r\n",
      "2018-03-01T00:01:15,http://www.myawesomesite.com/quos-sint-rerum,Mozilla/5.0 (compatible; MSIE 8.0; Windows 98; Win 9x 4.90; Trident/3.0)\r\n",
      "2018-03-01T00:01:44,http://www.myawesomesite.com/occaecati-cum-ex,Mozilla/5.0 (Macintosh; U; Intel Mac OS X 10_7_1; rv:1.9.5.20) Gecko/2012-11-30 12:52:58 Firefox/3.8\r\n",
      "2018-03-01T00:02:34,http://www.myawesomesite.com/dicta-consequuntur,Mozilla/5.0 (compatible; MSIE 6.0; Windows NT 6.0; Trident/5.0)\r\n",
      "2018-03-01T00:03:23,http://www.myawesomesite.com/accusantium-hic,Mozilla/5.0 (compatible; MSIE 8.0; Windows 98; Win 9x 4.90; Trident/5.1)\r\n",
      "2018-03-01T00:03:51,https://myawesomesite.com/nam-nihil-est,Mozilla/5.0 (Windows 98; brx-IN; rv:1.9.0.20) Gecko/2017-11-28 11:54:36 Firefox/3.8\r\n",
      "2018-03-01T00:04:15,http://www.myawesomesite.com/sed-nostrum-totam,Opera/9.44.(X11; Linux x86_64; fy-DE) Presto/2.9.183 Version/10.00\r\n",
      "2018-03-01T00:04:45,http://www.myawesomesite.com/eos-itaque-suscipit,\"Mozilla/5.0 (iPod; U; CPU iPhone OS 4_2 like Mac OS X; hak-TW) AppleWebKit/534.25.6 (KHTML, like Gecko) Version/3.0.5 Mobile/8B112 Safari/6534.25.6\"\r\n"
     ]
    }
   ],
   "source": [
    "!head ../data/parsed_logs.csv"
   ]
  },
  {
   "cell_type": "code",
   "execution_count": null,
   "metadata": {},
   "outputs": [],
   "source": []
  }
 ],
 "metadata": {
  "kernelspec": {
   "display_name": "Python 3",
   "language": "python",
   "name": "python3"
  },
  "language_info": {
   "codemirror_mode": {
    "name": "ipython",
    "version": 3
   },
   "file_extension": ".py",
   "mimetype": "text/x-python",
   "name": "python",
   "nbconvert_exporter": "python",
   "pygments_lexer": "ipython3",
   "version": "3.6.1"
  }
 },
 "nbformat": 4,
 "nbformat_minor": 2
}
