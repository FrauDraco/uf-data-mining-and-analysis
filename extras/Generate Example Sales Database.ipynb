{
 "cells": [
  {
   "cell_type": "code",
   "execution_count": 26,
   "metadata": {},
   "outputs": [],
   "source": [
    "from datafuzz.generators import DatasetGenerator\n",
    "from datafuzz.parsers import SchemaYAMLParser\n",
    "\n",
    "from random import randint"
   ]
  },
  {
   "cell_type": "code",
   "execution_count": 12,
   "metadata": {},
   "outputs": [],
   "source": [
    "parser = SchemaYAMLParser('sales_with_customer.yaml')"
   ]
  },
  {
   "cell_type": "code",
   "execution_count": 13,
   "metadata": {},
   "outputs": [],
   "source": [
    "parser.parse()"
   ]
  },
  {
   "cell_type": "code",
   "execution_count": 14,
   "metadata": {},
   "outputs": [],
   "source": [
    "dg = DatasetGenerator(parser)"
   ]
  },
  {
   "cell_type": "code",
   "execution_count": 15,
   "metadata": {},
   "outputs": [],
   "source": [
    "dg.generate()"
   ]
  },
  {
   "cell_type": "code",
   "execution_count": 19,
   "metadata": {},
   "outputs": [],
   "source": [
    "sales_df = dg.to_output()"
   ]
  },
  {
   "cell_type": "code",
   "execution_count": 24,
   "metadata": {},
   "outputs": [
    {
     "data": {
      "text/html": [
       "<div>\n",
       "<style>\n",
       "    .dataframe thead tr:only-child th {\n",
       "        text-align: right;\n",
       "    }\n",
       "\n",
       "    .dataframe thead th {\n",
       "        text-align: left;\n",
       "    }\n",
       "\n",
       "    .dataframe tbody tr th {\n",
       "        vertical-align: top;\n",
       "    }\n",
       "</style>\n",
       "<table border=\"1\" class=\"dataframe\">\n",
       "  <thead>\n",
       "    <tr style=\"text-align: right;\">\n",
       "      <th></th>\n",
       "      <th>associate</th>\n",
       "      <th>branch_id</th>\n",
       "      <th>coupon_code</th>\n",
       "      <th>customer_id</th>\n",
       "      <th>sale_amount</th>\n",
       "      <th>sale_number</th>\n",
       "      <th>timestamp</th>\n",
       "    </tr>\n",
       "  </thead>\n",
       "  <tbody>\n",
       "    <tr>\n",
       "      <th>0</th>\n",
       "      <td>Christopher Vazquez</td>\n",
       "      <td>7</td>\n",
       "      <td></td>\n",
       "      <td>89</td>\n",
       "      <td>1373.0</td>\n",
       "      <td>1884</td>\n",
       "      <td>2015-01-01T00:00:00</td>\n",
       "    </tr>\n",
       "    <tr>\n",
       "      <th>1</th>\n",
       "      <td>Chad Johnson</td>\n",
       "      <td>7</td>\n",
       "      <td>NEW20</td>\n",
       "      <td>155</td>\n",
       "      <td>-163.0</td>\n",
       "      <td>2114</td>\n",
       "      <td>2015-01-02T02:01:00</td>\n",
       "    </tr>\n",
       "    <tr>\n",
       "      <th>2</th>\n",
       "      <td>Marie Jones</td>\n",
       "      <td>1</td>\n",
       "      <td></td>\n",
       "      <td>260</td>\n",
       "      <td>86.0</td>\n",
       "      <td>147</td>\n",
       "      <td>2015-01-04T11:01:49</td>\n",
       "    </tr>\n",
       "    <tr>\n",
       "      <th>3</th>\n",
       "      <td>Andre Wallace</td>\n",
       "      <td>9</td>\n",
       "      <td>PROMO15</td>\n",
       "      <td>60</td>\n",
       "      <td>801.0</td>\n",
       "      <td>2763</td>\n",
       "      <td>2015-01-05T17:01:56</td>\n",
       "    </tr>\n",
       "    <tr>\n",
       "      <th>4</th>\n",
       "      <td>Max Morgan</td>\n",
       "      <td>1</td>\n",
       "      <td>NEW20</td>\n",
       "      <td>81</td>\n",
       "      <td>372.0</td>\n",
       "      <td>597</td>\n",
       "      <td>2015-01-09T01:02:42</td>\n",
       "    </tr>\n",
       "  </tbody>\n",
       "</table>\n",
       "</div>"
      ],
      "text/plain": [
       "             associate  branch_id coupon_code  customer_id  sale_amount  \\\n",
       "0  Christopher Vazquez          7                       89       1373.0   \n",
       "1         Chad Johnson          7       NEW20          155       -163.0   \n",
       "2          Marie Jones          1                      260         86.0   \n",
       "3        Andre Wallace          9     PROMO15           60        801.0   \n",
       "4           Max Morgan          1       NEW20           81        372.0   \n",
       "\n",
       "   sale_number            timestamp  \n",
       "0         1884  2015-01-01T00:00:00  \n",
       "1         2114  2015-01-02T02:01:00  \n",
       "2          147  2015-01-04T11:01:49  \n",
       "3         2763  2015-01-05T17:01:56  \n",
       "4          597  2015-01-09T01:02:42  "
      ]
     },
     "execution_count": 24,
     "metadata": {},
     "output_type": "execute_result"
    }
   ],
   "source": [
    "sales_df.head()"
   ]
  },
  {
   "cell_type": "code",
   "execution_count": 17,
   "metadata": {},
   "outputs": [],
   "source": [
    "parser = SchemaYAMLParser('customer.yaml')"
   ]
  },
  {
   "cell_type": "code",
   "execution_count": 18,
   "metadata": {},
   "outputs": [],
   "source": [
    "parser.parse()"
   ]
  },
  {
   "cell_type": "code",
   "execution_count": 20,
   "metadata": {},
   "outputs": [],
   "source": [
    "dg = DatasetGenerator(parser)"
   ]
  },
  {
   "cell_type": "code",
   "execution_count": 21,
   "metadata": {},
   "outputs": [],
   "source": [
    "dg.generate()"
   ]
  },
  {
   "cell_type": "code",
   "execution_count": 22,
   "metadata": {},
   "outputs": [],
   "source": [
    "customer_df = dg.to_output()"
   ]
  },
  {
   "cell_type": "code",
   "execution_count": 23,
   "metadata": {},
   "outputs": [
    {
     "data": {
      "text/html": [
       "<div>\n",
       "<style>\n",
       "    .dataframe thead tr:only-child th {\n",
       "        text-align: right;\n",
       "    }\n",
       "\n",
       "    .dataframe thead th {\n",
       "        text-align: left;\n",
       "    }\n",
       "\n",
       "    .dataframe tbody tr th {\n",
       "        vertical-align: top;\n",
       "    }\n",
       "</style>\n",
       "<table border=\"1\" class=\"dataframe\">\n",
       "  <thead>\n",
       "    <tr style=\"text-align: right;\">\n",
       "      <th></th>\n",
       "      <th>city</th>\n",
       "      <th>email</th>\n",
       "      <th>name</th>\n",
       "      <th>phone</th>\n",
       "      <th>timestamp</th>\n",
       "    </tr>\n",
       "  </thead>\n",
       "  <tbody>\n",
       "    <tr>\n",
       "      <th>0</th>\n",
       "      <td>West Tina</td>\n",
       "      <td>mikayladuncan@moore-molina.com</td>\n",
       "      <td>Jose Shannon</td>\n",
       "      <td>+57(3)8752985788</td>\n",
       "      <td>2015-01-01T00:00:00</td>\n",
       "    </tr>\n",
       "    <tr>\n",
       "      <th>1</th>\n",
       "      <td>North Robert</td>\n",
       "      <td>grantsteven@gmail.com</td>\n",
       "      <td>Sarah Jones</td>\n",
       "      <td>886.954.7707x3298</td>\n",
       "      <td>2015-01-03T09:00:34</td>\n",
       "    </tr>\n",
       "    <tr>\n",
       "      <th>2</th>\n",
       "      <td>Moodybury</td>\n",
       "      <td>justin52@hotmail.com</td>\n",
       "      <td>Alexandria Nguyen</td>\n",
       "      <td>333-544-3676x55149</td>\n",
       "      <td>2015-01-05T15:01:36</td>\n",
       "    </tr>\n",
       "    <tr>\n",
       "      <th>3</th>\n",
       "      <td>Melissaborough</td>\n",
       "      <td>bentonandrew@nash.info</td>\n",
       "      <td>Jeffrey Wright</td>\n",
       "      <td>1-013-013-4606x938</td>\n",
       "      <td>2015-01-09T00:02:00</td>\n",
       "    </tr>\n",
       "    <tr>\n",
       "      <th>4</th>\n",
       "      <td>Susanfort</td>\n",
       "      <td>coryvargas@gmail.com</td>\n",
       "      <td>Cassandra David</td>\n",
       "      <td>221-419-9841</td>\n",
       "      <td>2015-01-11T08:03:01</td>\n",
       "    </tr>\n",
       "  </tbody>\n",
       "</table>\n",
       "</div>"
      ],
      "text/plain": [
       "             city                           email               name  \\\n",
       "0       West Tina  mikayladuncan@moore-molina.com       Jose Shannon   \n",
       "1    North Robert           grantsteven@gmail.com        Sarah Jones   \n",
       "2       Moodybury            justin52@hotmail.com  Alexandria Nguyen   \n",
       "3  Melissaborough          bentonandrew@nash.info     Jeffrey Wright   \n",
       "4       Susanfort            coryvargas@gmail.com    Cassandra David   \n",
       "\n",
       "                phone            timestamp  \n",
       "0    +57(3)8752985788  2015-01-01T00:00:00  \n",
       "1   886.954.7707x3298  2015-01-03T09:00:34  \n",
       "2  333-544-3676x55149  2015-01-05T15:01:36  \n",
       "3  1-013-013-4606x938  2015-01-09T00:02:00  \n",
       "4        221-419-9841  2015-01-11T08:03:01  "
      ]
     },
     "execution_count": 23,
     "metadata": {},
     "output_type": "execute_result"
    }
   ],
   "source": [
    "customer_df.head()"
   ]
  },
  {
   "cell_type": "code",
   "execution_count": 28,
   "metadata": {},
   "outputs": [],
   "source": [
    "def generate_email_from_name(row):\n",
    "    if randint(0,10) < 5:\n",
    "        ename = row['name'].split(' ')[1].lower().replace(' ', '')\n",
    "    elif randint(0, 10) < 5:\n",
    "        ename = row['name'].split(' ')[0].lower().replace(' ', '')\n",
    "    else:\n",
    "        ename = row['name'].lower().replace(' ', '.')\n",
    "    \n",
    "    if randint(0,10) >= 5:\n",
    "        ename += str(randint(1980,2010))[:-2]\n",
    "    \n",
    "    return '{}@{}'.format(ename, row['email'].split('@')[1])"
   ]
  },
  {
   "cell_type": "code",
   "execution_count": 31,
   "metadata": {},
   "outputs": [],
   "source": [
    "customer_df['new_email'] = customer_df.apply(generate_email_from_name, axis=1)"
   ]
  },
  {
   "cell_type": "code",
   "execution_count": 32,
   "metadata": {},
   "outputs": [],
   "source": [
    "customer_df['email'] = customer_df['new_email']"
   ]
  },
  {
   "cell_type": "code",
   "execution_count": 37,
   "metadata": {},
   "outputs": [],
   "source": [
    "customer_df = customer_df.drop('new_email', axis=1)"
   ]
  },
  {
   "cell_type": "code",
   "execution_count": 38,
   "metadata": {},
   "outputs": [
    {
     "data": {
      "text/html": [
       "<div>\n",
       "<style>\n",
       "    .dataframe thead tr:only-child th {\n",
       "        text-align: right;\n",
       "    }\n",
       "\n",
       "    .dataframe thead th {\n",
       "        text-align: left;\n",
       "    }\n",
       "\n",
       "    .dataframe tbody tr th {\n",
       "        vertical-align: top;\n",
       "    }\n",
       "</style>\n",
       "<table border=\"1\" class=\"dataframe\">\n",
       "  <thead>\n",
       "    <tr style=\"text-align: right;\">\n",
       "      <th></th>\n",
       "      <th>city</th>\n",
       "      <th>email</th>\n",
       "      <th>name</th>\n",
       "      <th>phone</th>\n",
       "      <th>timestamp</th>\n",
       "    </tr>\n",
       "  </thead>\n",
       "  <tbody>\n",
       "    <tr>\n",
       "      <th>0</th>\n",
       "      <td>West Tina</td>\n",
       "      <td>jose.shannon@moore-molina.com</td>\n",
       "      <td>Jose Shannon</td>\n",
       "      <td>+57(3)8752985788</td>\n",
       "      <td>2015-01-01T00:00:00</td>\n",
       "    </tr>\n",
       "    <tr>\n",
       "      <th>1</th>\n",
       "      <td>North Robert</td>\n",
       "      <td>jones19@gmail.com</td>\n",
       "      <td>Sarah Jones</td>\n",
       "      <td>886.954.7707x3298</td>\n",
       "      <td>2015-01-03T09:00:34</td>\n",
       "    </tr>\n",
       "    <tr>\n",
       "      <th>2</th>\n",
       "      <td>Moodybury</td>\n",
       "      <td>alexandria@hotmail.com</td>\n",
       "      <td>Alexandria Nguyen</td>\n",
       "      <td>333-544-3676x55149</td>\n",
       "      <td>2015-01-05T15:01:36</td>\n",
       "    </tr>\n",
       "    <tr>\n",
       "      <th>3</th>\n",
       "      <td>Melissaborough</td>\n",
       "      <td>jeffrey.wright@nash.info</td>\n",
       "      <td>Jeffrey Wright</td>\n",
       "      <td>1-013-013-4606x938</td>\n",
       "      <td>2015-01-09T00:02:00</td>\n",
       "    </tr>\n",
       "    <tr>\n",
       "      <th>4</th>\n",
       "      <td>Susanfort</td>\n",
       "      <td>david@gmail.com</td>\n",
       "      <td>Cassandra David</td>\n",
       "      <td>221-419-9841</td>\n",
       "      <td>2015-01-11T08:03:01</td>\n",
       "    </tr>\n",
       "  </tbody>\n",
       "</table>\n",
       "</div>"
      ],
      "text/plain": [
       "             city                          email               name  \\\n",
       "0       West Tina  jose.shannon@moore-molina.com       Jose Shannon   \n",
       "1    North Robert              jones19@gmail.com        Sarah Jones   \n",
       "2       Moodybury         alexandria@hotmail.com  Alexandria Nguyen   \n",
       "3  Melissaborough       jeffrey.wright@nash.info     Jeffrey Wright   \n",
       "4       Susanfort                david@gmail.com    Cassandra David   \n",
       "\n",
       "                phone            timestamp  \n",
       "0    +57(3)8752985788  2015-01-01T00:00:00  \n",
       "1   886.954.7707x3298  2015-01-03T09:00:34  \n",
       "2  333-544-3676x55149  2015-01-05T15:01:36  \n",
       "3  1-013-013-4606x938  2015-01-09T00:02:00  \n",
       "4        221-419-9841  2015-01-11T08:03:01  "
      ]
     },
     "execution_count": 38,
     "metadata": {},
     "output_type": "execute_result"
    }
   ],
   "source": [
    "customer_df.head()"
   ]
  },
  {
   "cell_type": "code",
   "execution_count": 39,
   "metadata": {},
   "outputs": [],
   "source": [
    "from sqlalchemy import create_engine"
   ]
  },
  {
   "cell_type": "code",
   "execution_count": 40,
   "metadata": {},
   "outputs": [],
   "source": [
    "e = create_engine('sqlite:///sales.db')"
   ]
  },
  {
   "cell_type": "code",
   "execution_count": 42,
   "metadata": {},
   "outputs": [],
   "source": [
    "sales_df.to_sql('sales', e)"
   ]
  },
  {
   "cell_type": "code",
   "execution_count": 43,
   "metadata": {},
   "outputs": [],
   "source": [
    "customer_df.to_sql('customers', e)"
   ]
  },
  {
   "cell_type": "code",
   "execution_count": null,
   "metadata": {},
   "outputs": [],
   "source": [
    "!sqlite3 sales.db '.tables'"
   ]
  },
  {
   "cell_type": "code",
   "execution_count": null,
   "metadata": {},
   "outputs": [],
   "source": [
    "!sqlite3 sales.db 'select * from customers limit 2;'"
   ]
  },
  {
   "cell_type": "code",
   "execution_count": null,
   "metadata": {},
   "outputs": [],
   "source": [
    "!sqlite3 sales.db 'select * from sales limit 2;'"
   ]
  }
 ],
 "metadata": {
  "kernelspec": {
   "display_name": "Python 3",
   "language": "python",
   "name": "python3"
  },
  "language_info": {
   "codemirror_mode": {
    "name": "ipython",
    "version": 3
   },
   "file_extension": ".py",
   "mimetype": "text/x-python",
   "name": "python",
   "nbconvert_exporter": "python",
   "pygments_lexer": "ipython3",
   "version": "3.6.1"
  }
 },
 "nbformat": 4,
 "nbformat_minor": 2
}
