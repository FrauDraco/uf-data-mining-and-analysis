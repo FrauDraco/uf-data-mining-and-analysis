{
 "cells": [
  {
   "cell_type": "markdown",
   "metadata": {},
   "source": [
    "# Introduction to Programming Review"
   ]
  },
  {
   "cell_type": "markdown",
   "metadata": {},
   "source": [
    "### 1. Python Basics\n",
    "\n",
    "You'll be using Python to help with data mining throughout this course. Here are some fundamentals you should recall. If not, please take time to review the suggested resources and last course's lessons."
   ]
  },
  {
   "cell_type": "markdown",
   "metadata": {},
   "source": [
    "#### Variables and Math\n",
    "\n",
    "Know how to create a variable in Python. To review, a variable is a representation of a piece of data, just like in algebra. Know how to perform math with data in Python. Just like with your calculator, Python can add and subtract numbers whether they are in variables or not. \n"
   ]
  },
  {
   "cell_type": "code",
   "execution_count": null,
   "metadata": {},
   "outputs": [],
   "source": [
    "# variables\n",
    "a = 1\n",
    "my_variable = a + 1"
   ]
  },
  {
   "cell_type": "code",
   "execution_count": null,
   "metadata": {},
   "outputs": [],
   "source": [
    "my_variable"
   ]
  },
  {
   "cell_type": "code",
   "execution_count": null,
   "metadata": {},
   "outputs": [],
   "source": [
    "my_variable + 3"
   ]
  },
  {
   "cell_type": "markdown",
   "metadata": {},
   "source": [
    "#### Lists\n",
    "\n",
    "Know how to use lists in Python. When we manipulate data, we must often change the way it is shaped. This becomes especially important as we deal with more complex data structures. Review what lists can do."
   ]
  },
  {
   "cell_type": "code",
   "execution_count": null,
   "metadata": {},
   "outputs": [],
   "source": [
    "# lists\n",
    "my_list = [my_variable, 9, 7, 'a', 'this is a longer string', \n",
    "           'and another']"
   ]
  },
  {
   "cell_type": "code",
   "execution_count": null,
   "metadata": {},
   "outputs": [],
   "source": [
    "my_list[0]"
   ]
  },
  {
   "cell_type": "code",
   "execution_count": null,
   "metadata": {},
   "outputs": [],
   "source": [
    "my_list[-1]"
   ]
  },
  {
   "cell_type": "code",
   "execution_count": null,
   "metadata": {},
   "outputs": [],
   "source": [
    "# reading exceptions\n",
    "\n",
    "sorted(my_list)"
   ]
  },
  {
   "cell_type": "code",
   "execution_count": null,
   "metadata": {},
   "outputs": [],
   "source": [
    "sorted(my_list[-3:])"
   ]
  },
  {
   "cell_type": "code",
   "execution_count": null,
   "metadata": {},
   "outputs": [],
   "source": [
    "sorted(my_list[:-3])"
   ]
  },
  {
   "cell_type": "code",
   "execution_count": null,
   "metadata": {},
   "outputs": [],
   "source": [
    "sorted(my_list[:3])"
   ]
  },
  {
   "cell_type": "markdown",
   "metadata": {},
   "source": [
    "#### Loops and Logic\n",
    "\n",
    "Know how to use for loops and logic statements. These can help you figure out how to transform data. Remember, a for loop can iterate over any list or iterable. \n"
   ]
  },
  {
   "cell_type": "code",
   "execution_count": null,
   "metadata": {},
   "outputs": [],
   "source": [
    "# loops\n",
    "for element in my_list:\n",
    "    print(element)"
   ]
  },
  {
   "cell_type": "code",
   "execution_count": null,
   "metadata": {},
   "outputs": [],
   "source": [
    "# logic\n",
    "for element in my_list:\n",
    "    if isinstance(element, str):\n",
    "        print(element)\n",
    "    else:\n",
    "        print(element / 2)"
   ]
  },
  {
   "cell_type": "code",
   "execution_count": null,
   "metadata": {},
   "outputs": [],
   "source": [
    "my_list"
   ]
  },
  {
   "cell_type": "markdown",
   "metadata": {},
   "source": [
    "#### Functions\n",
    "\n",
    "Know how to create a function. Recall how to write a function in Python. These are for use of the same code numerous times. If you recall, you can use a def statement and then the name. Then comes any arguments or keyword arguments in your function. Then you can call your function in another cell. Remember, if you forget your arguments you will get an error."
   ]
  },
  {
   "cell_type": "code",
   "execution_count": null,
   "metadata": {},
   "outputs": [],
   "source": [
    "def add_one(x):\n",
    "    '''Takes an integer or number and adds one.'''\n",
    "    return x + 1"
   ]
  },
  {
   "cell_type": "code",
   "execution_count": null,
   "metadata": {},
   "outputs": [],
   "source": [
    "add_one(4)"
   ]
  },
  {
   "cell_type": "code",
   "execution_count": null,
   "metadata": {},
   "outputs": [],
   "source": [
    "add_one()"
   ]
  },
  {
   "cell_type": "code",
   "execution_count": null,
   "metadata": {},
   "outputs": [],
   "source": [
    "add_one?"
   ]
  },
  {
   "cell_type": "markdown",
   "metadata": {},
   "source": [
    "#### Debugging\n",
    "\n",
    "Remember how to debug your errors. Sometimes it is as easy as googling the error. Sometimes there is a good clue just in what it says. For better google results, remove specific parts of your error message which are related to the data you are using."
   ]
  },
  {
   "cell_type": "code",
   "execution_count": null,
   "metadata": {},
   "outputs": [],
   "source": [
    "# debugging\n",
    "add_one('a')"
   ]
  },
  {
   "cell_type": "code",
   "execution_count": null,
   "metadata": {},
   "outputs": [],
   "source": [
    "def add_one(x):\n",
    "    if isinstance(x, str):\n",
    "        print('sorry, we can not handle your request.')\n",
    "        return\n",
    "    return x + 1"
   ]
  },
  {
   "cell_type": "code",
   "execution_count": null,
   "metadata": {},
   "outputs": [],
   "source": [
    "add_one('a')"
   ]
  },
  {
   "cell_type": "code",
   "execution_count": null,
   "metadata": {},
   "outputs": [],
   "source": [
    "add_one(1.4)"
   ]
  },
  {
   "cell_type": "markdown",
   "metadata": {},
   "source": [
    "### 2. Statistics in Python\n",
    "\n",
    "You'll be using statistical libraries in Python to help with data mining throughout this course. Here are some libraries and concepts you should recall. If not, please take time to review the suggested resources and last course's lessons."
   ]
  },
  {
   "cell_type": "markdown",
   "metadata": {},
   "source": [
    "#### Statistical Aggregates in Pandas and Numpy\n",
    "\n",
    "You should remember how to calculate statistics like mean, median, mode, interquartile range and correlation with dataframes or arrays in Python. "
   ]
  },
  {
   "cell_type": "code",
   "execution_count": null,
   "metadata": {},
   "outputs": [],
   "source": [
    "import pandas as pd\n",
    "import numpy as np\n",
    "%pylab inline\n",
    "\n",
    "df = pd.read_csv('../data/full_titanic.csv')"
   ]
  },
  {
   "cell_type": "code",
   "execution_count": null,
   "metadata": {},
   "outputs": [],
   "source": [
    "df.describe()"
   ]
  },
  {
   "cell_type": "code",
   "execution_count": null,
   "metadata": {},
   "outputs": [],
   "source": [
    "np.median([1, 1, 1, 4, 7, 7, 8, 10])"
   ]
  },
  {
   "cell_type": "markdown",
   "metadata": {},
   "source": [
    "### Data Visualization Basics\n",
    "\n",
    "You should remember how to visualize your dataframe or array quickly using Python to see if there are particular outliers or trends. "
   ]
  },
  {
   "cell_type": "code",
   "execution_count": null,
   "metadata": {},
   "outputs": [],
   "source": [
    "df['Age'].hist()"
   ]
  },
  {
   "cell_type": "code",
   "execution_count": null,
   "metadata": {},
   "outputs": [],
   "source": [
    "df['Pclass'].value_counts().plot(kind='pie')"
   ]
  },
  {
   "cell_type": "code",
   "execution_count": null,
   "metadata": {},
   "outputs": [],
   "source": [
    "df.plot(x='Fare', y='Age', style='o')"
   ]
  },
  {
   "cell_type": "code",
   "execution_count": null,
   "metadata": {},
   "outputs": [],
   "source": [
    "fare_first_quartile, fare_third_quartile = df['Fare'].quantile(\n",
    "    [.25, .75])\n",
    "fare_iqr = fare_third_quartile - fare_first_quartile\n",
    "fare_mean = df['Fare'].mean()"
   ]
  },
  {
   "cell_type": "code",
   "execution_count": null,
   "metadata": {},
   "outputs": [],
   "source": [
    "fare_iqr"
   ]
  },
  {
   "cell_type": "code",
   "execution_count": null,
   "metadata": {},
   "outputs": [],
   "source": [
    "outliers = df[(df['Fare'] > fare_third_quartile + 1.5 * fare_iqr) | \n",
    "              (df['Fare'] < fare_first_quartile - 1.5 * fare_iqr)]"
   ]
  },
  {
   "cell_type": "code",
   "execution_count": null,
   "metadata": {},
   "outputs": [],
   "source": [
    "outliers.shape"
   ]
  },
  {
   "cell_type": "code",
   "execution_count": null,
   "metadata": {},
   "outputs": [],
   "source": [
    "df.shape"
   ]
  },
  {
   "cell_type": "markdown",
   "metadata": {},
   "source": [
    "#### Resources for Review\n",
    "\n",
    "- [DataCamp: Introduction to Pandas](https://www.datacamp.com/courses/pandas-foundations)\n",
    "- [Wes McKinney's Pandas Book](http://wesmckinney.com/pages/book.html)\n",
    "- [Julia Evan's Pandas Cookbook](https://github.com/jvns/pandas-cookbook)\n",
    "\n",
    "Many more tutorials on YouTube! (Try searching for PyData or SciPy conference tutorials!)"
   ]
  },
  {
   "cell_type": "markdown",
   "metadata": {},
   "source": [
    "## 3. Debugging, Questioning and Exploring fundamentals. \n",
    "\n",
    "As we used in the previous course, you will need to figure out how to debug code, make things work and scrap together bits from different lessons to make a working piece of code, notebook or script. You will be expected to search and find answers to error messages. You will be expected to question the data and figure out what to ask when presented a new dataset. And you will definitely want to find new questions and ideas via data exploration and perhaps exploring the topic further in research and books.\n",
    "\n",
    "## 4. Challenging one another. \n",
    "\n",
    "We will continue with group projects and group chat. Even if in our previous course you did not use the group channel often, I highly encourage you to do so this year. By helping one another via projects and assignments, you can garner a deeper understanding of the topics. \n"
   ]
  }
 ],
 "metadata": {
  "kernelspec": {
   "display_name": "Python 3",
   "language": "python",
   "name": "python3"
  },
  "language_info": {
   "codemirror_mode": {
    "name": "ipython",
    "version": 3
   },
   "file_extension": ".py",
   "mimetype": "text/x-python",
   "name": "python",
   "nbconvert_exporter": "python",
   "pygments_lexer": "ipython3",
   "version": "3.6.1"
  }
 },
 "nbformat": 4,
 "nbformat_minor": 2
}
